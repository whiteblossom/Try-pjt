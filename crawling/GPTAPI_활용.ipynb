{
 "cells": [
  {
   "cell_type": "code",
   "execution_count": 4,
   "id": "f5e6e785",
   "metadata": {
    "scrolled": true
   },
   "outputs": [
    {
     "name": "stdout",
     "output_type": "stream",
     "text": [
      "Requirement already satisfied: openai in c:\\anaconda\\lib\\site-packages (1.2.0)Note: you may need to restart the kernel to use updated packages.\n",
      "\n",
      "Requirement already satisfied: anyio<4,>=3.5.0 in c:\\anaconda\\lib\\site-packages (from openai) (3.5.0)\n",
      "Requirement already satisfied: distro<2,>=1.7.0 in c:\\anaconda\\lib\\site-packages (from openai) (1.8.0)\n",
      "Requirement already satisfied: httpx<1,>=0.23.0 in c:\\anaconda\\lib\\site-packages (from openai) (0.25.1)\n",
      "Requirement already satisfied: pydantic<3,>=1.9.0 in c:\\anaconda\\lib\\site-packages (from openai) (2.4.2)\n",
      "Requirement already satisfied: tqdm>4 in c:\\anaconda\\lib\\site-packages (from openai) (4.65.0)\n",
      "Requirement already satisfied: typing-extensions<5,>=4.5 in c:\\anaconda\\lib\\site-packages (from openai) (4.8.0)\n",
      "Requirement already satisfied: idna>=2.8 in c:\\anaconda\\lib\\site-packages (from anyio<4,>=3.5.0->openai) (3.4)\n",
      "Requirement already satisfied: sniffio>=1.1 in c:\\anaconda\\lib\\site-packages (from anyio<4,>=3.5.0->openai) (1.2.0)\n",
      "Requirement already satisfied: certifi in c:\\anaconda\\lib\\site-packages (from httpx<1,>=0.23.0->openai) (2023.7.22)\n",
      "Requirement already satisfied: httpcore in c:\\anaconda\\lib\\site-packages (from httpx<1,>=0.23.0->openai) (1.0.1)\n",
      "Requirement already satisfied: annotated-types>=0.4.0 in c:\\anaconda\\lib\\site-packages (from pydantic<3,>=1.9.0->openai) (0.6.0)\n",
      "Requirement already satisfied: pydantic-core==2.10.1 in c:\\anaconda\\lib\\site-packages (from pydantic<3,>=1.9.0->openai) (2.10.1)\n",
      "Requirement already satisfied: colorama in c:\\anaconda\\lib\\site-packages (from tqdm>4->openai) (0.4.6)\n",
      "Requirement already satisfied: h11<0.15,>=0.13 in c:\\anaconda\\lib\\site-packages (from httpcore->httpx<1,>=0.23.0->openai) (0.14.0)\n"
     ]
    }
   ],
   "source": [
    "pip install openai"
   ]
  },
  {
   "cell_type": "code",
   "execution_count": 5,
   "id": "c1519a1d",
   "metadata": {},
   "outputs": [
    {
     "name": "stdout",
     "output_type": "stream",
     "text": [
      "Requirement already satisfied: typing-extensions in c:\\anaconda\\lib\\site-packages (4.8.0)\n",
      "Note: you may need to restart the kernel to use updated packages.\n"
     ]
    }
   ],
   "source": [
    "pip install --upgrade typing-extensions"
   ]
  },
  {
   "cell_type": "code",
   "execution_count": 6,
   "id": "93dbed27",
   "metadata": {},
   "outputs": [
    {
     "name": "stdout",
     "output_type": "stream",
     "text": [
      "Requirement already satisfied: mysql-connector-python in c:\\anaconda\\lib\\site-packages (8.2.0)Note: you may need to restart the kernel to use updated packages.\n",
      "\n",
      "Requirement already satisfied: protobuf<=4.21.12,>=4.21.1 in c:\\anaconda\\lib\\site-packages (from mysql-connector-python) (4.21.12)\n"
     ]
    }
   ],
   "source": [
    "pip install mysql-connector-python"
   ]
  },
  {
   "cell_type": "code",
   "execution_count": 8,
   "id": "fd87e2c2",
   "metadata": {},
   "outputs": [
    {
     "name": "stdout",
     "output_type": "stream",
     "text": [
      "ID: 42\n",
      "====> 날씨, 겨울, 기온, 한파, 지구온난화, 패딩, 단풍, 예보, 추위, 엘니뇨\n"
     ]
    }
   ],
   "source": [
    "from openai import OpenAI\n",
    "import mysql.connector\n",
    "import re\n",
    "\n",
    "# MySQL 서버에 연결\n",
    "conn = mysql.connector.connect(\n",
    "    host=\"localhost\",\n",
    "    user=\"root\",\n",
    "    password=\"0000\",\n",
    "    database=\"news\"\n",
    ")\n",
    "\n",
    "# MySQL 커서 생성\n",
    "cursor = conn.cursor()\n",
    "\n",
    "# SQL 쿼리 실행\n",
    "query = \"SELECT article_id, content FROM article where article_id=42\"\n",
    "cursor.execute(query)\n",
    "\n",
    "# 결과 가져오기\n",
    "result = cursor.fetchall()\n",
    "\n",
    "# GPT API 키 설정\n",
    "client = OpenAI(api_key=\"OpenAi gpt-key\",)\n",
    "\n",
    "# 결과 출력\n",
    "index = 0\n",
    "while index < len(result):\n",
    "    keyword_set = set()  # 중복을 확인하기 위한 set\n",
    "    keyword_str = [None] * 10\n",
    "\n",
    "    row = result[index]\n",
    "    article_id, content = row\n",
    "    print(f\"ID: {article_id}\")\n",
    "\n",
    "    # 기사 내용과 질문을 합침\n",
    "    content = content + \"위의 기사에서 핵심 키워드 10개를 중복되지 않게 알려줘. 대답은 콤마로 구분해서 한줄로 해줘. 1. 키워드에 홑따옴표 제외하고 대답하기 2. 키워드에 가운뎃점 제외하고 대답하기 3. 키워드는 명사로만 대답하기\"\n",
    "   \n",
    "    chat_completion = client.chat.completions.create(\n",
    "        messages=[\n",
    "            {\n",
    "                \"role\": \"user\",\n",
    "                \"content\": content,\n",
    "            }\n",
    "        ],\n",
    "        model=\"gpt-4\",\n",
    "    )\n",
    "    message = chat_completion.choices[0].message  # 응답에서 메시지를 가져옵니다.\n",
    "    print (\"====>\", message.content)  # GPT 응답 \n",
    "    \n",
    "    # 메시지에서 키워드 추출\n",
    "    keywords = message.content\n",
    "    # keywords = re.sub(r'\\d+\\.\\s', '', keywords)  # 숫자와 점 다음의 공백을 제거\n",
    "\n",
    "    # 줄 바꿈 문자를 기준으로 문자열 분할\n",
    "    keywords = keywords.split(', ')\n",
    "\n",
    "    for i in keywords[:10]:\n",
    "        if i in keyword_set:  # 중복 확인\n",
    "            print(f\"Duplicate found: {i}. Restarting loop for current row.\")\n",
    "            index -= 1  # 현재 문 다시 시작\n",
    "            break\n",
    "        keyword_set.add(i)  # set에 추가\n",
    "        # print(i)\n",
    "    for i in keywords[:10]:\n",
    "        # 여기에서 MySQL에 키워드를 추가\n",
    "        # MySQL 쿼리를 사용하여 articlekeyword 테이블에 데이터를 추가\n",
    "        insert_query = \"INSERT INTO articlekeyword (keyword_id, article_id) VALUES (%s, %s)\"\n",
    "        cursor.execute(insert_query, (i, article_id))\n",
    "        conn.commit()\n",
    "        \n",
    "\n",
    "    index += 1\n",
    "\n",
    "# 연결 종료\n",
    "cursor.close()\n",
    "conn.close()"
   ]
  },
  {
   "cell_type": "code",
   "execution_count": null,
   "id": "cf1f83ab",
   "metadata": {},
   "outputs": [],
   "source": []
  }
 ],
 "metadata": {
  "kernelspec": {
   "display_name": "Python 3 (ipykernel)",
   "language": "python",
   "name": "python3"
  },
  "language_info": {
   "codemirror_mode": {
    "name": "ipython",
    "version": 3
   },
   "file_extension": ".py",
   "mimetype": "text/x-python",
   "name": "python",
   "nbconvert_exporter": "python",
   "pygments_lexer": "ipython3",
   "version": "3.11.4"
  }
 },
 "nbformat": 4,
 "nbformat_minor": 5
}
